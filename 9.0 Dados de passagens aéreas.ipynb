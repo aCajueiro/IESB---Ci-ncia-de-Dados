{
 "cells": [
  {
   "cell_type": "markdown",
   "metadata": {},
   "source": [
    "# Análise de Dados - Passagens Aéreas"
   ]
  },
  {
   "cell_type": "code",
   "execution_count": 130,
   "metadata": {},
   "outputs": [],
   "source": [
    "# Importar biblioteca\n",
    "import pandas as pd\n",
    "import seaborn as sns\n",
    "import matplotlib.pyplot as plt\n",
    "%matplotlib inline"
   ]
  },
  {
   "cell_type": "code",
   "execution_count": 33,
   "metadata": {},
   "outputs": [],
   "source": [
    "# Ler o arquivo e criar DataFrame\n",
    "df = pd.read_excel('201710_EmissaoPassagens_SCDP.xlsx', skiprows=3, skipfooter=3)"
   ]
  },
  {
   "cell_type": "code",
   "execution_count": 36,
   "metadata": {},
   "outputs": [],
   "source": [
    "df.columns = ['Código do órgão superior', 'Nome do órgão superior', 'Código do órgão solicitante da viagem', \n",
    "              'Nome do órgão solicitante da viagem', 'N. PCDP', 'N. Reserva/Localizador', 'Data Emissão Bilhete',\n",
    "              'Data Embarque', 'Valor Tarifa Comercial', 'Percentual Desconto Aplicado', 'Valor Tarifa Governo',\n",
    "              'Valor Tarifa Embarque', 'Valor Bilhete', 'Companhia Aérea', 'Classe Tarifária Bilhete', 'Regra Tarifária',\n",
    "              'No Show', 'Remarcado', 'Cancelado', 'Valor Multas', 'Valor Reembolso', 'Diferença de Tarifa',\n",
    "              'Situação Final Bilhete']"
   ]
  },
  {
   "cell_type": "code",
   "execution_count": 37,
   "metadata": {
    "scrolled": true
   },
   "outputs": [
    {
     "name": "stdout",
     "output_type": "stream",
     "text": [
      "<class 'pandas.core.frame.DataFrame'>\n",
      "RangeIndex: 50405 entries, 0 to 50404\n",
      "Data columns (total 23 columns):\n",
      "Código do órgão superior                 50405 non-null int64\n",
      "Nome do órgão superior                   50405 non-null object\n",
      "Código do órgão solicitante da viagem    50405 non-null int64\n",
      "Nome do órgão solicitante da viagem      50405 non-null object\n",
      "N. PCDP                                  50405 non-null object\n",
      "N. Reserva/Localizador                   50405 non-null object\n",
      "Data Emissão Bilhete                     50405 non-null object\n",
      "Data Embarque                            50405 non-null object\n",
      "Valor Tarifa Comercial                   50405 non-null float64\n",
      "Percentual Desconto Aplicado             50405 non-null float64\n",
      "Valor Tarifa Governo                     50405 non-null float64\n",
      "Valor Tarifa Embarque                    50405 non-null float64\n",
      "Valor Bilhete                            50405 non-null float64\n",
      "Companhia Aérea                          50405 non-null object\n",
      "Classe Tarifária Bilhete                 50405 non-null object\n",
      "Regra Tarifária                          50405 non-null object\n",
      "No Show                                  50405 non-null object\n",
      "Remarcado                                50405 non-null object\n",
      "Cancelado                                50405 non-null object\n",
      "Valor Multas                             50405 non-null float64\n",
      "Valor Reembolso                          50405 non-null float64\n",
      "Diferença de Tarifa                      50405 non-null float64\n",
      "Situação Final Bilhete                   50405 non-null object\n",
      "dtypes: float64(8), int64(2), object(13)\n",
      "memory usage: 8.8+ MB\n"
     ]
    }
   ],
   "source": [
    "df.info()"
   ]
  },
  {
   "cell_type": "code",
   "execution_count": 48,
   "metadata": {},
   "outputs": [
    {
     "data": {
      "text/plain": [
       "(50405, 23)"
      ]
     },
     "execution_count": 48,
     "metadata": {},
     "output_type": "execute_result"
    }
   ],
   "source": [
    "df.shape"
   ]
  },
  {
   "cell_type": "code",
   "execution_count": 81,
   "metadata": {},
   "outputs": [
    {
     "data": {
      "text/html": [
       "<div>\n",
       "<style scoped>\n",
       "    .dataframe tbody tr th:only-of-type {\n",
       "        vertical-align: middle;\n",
       "    }\n",
       "\n",
       "    .dataframe tbody tr th {\n",
       "        vertical-align: top;\n",
       "    }\n",
       "\n",
       "    .dataframe thead th {\n",
       "        text-align: right;\n",
       "    }\n",
       "</style>\n",
       "<table border=\"1\" class=\"dataframe\">\n",
       "  <thead>\n",
       "    <tr style=\"text-align: right;\">\n",
       "      <th></th>\n",
       "      <th>Código do órgão superior</th>\n",
       "      <th>Nome do órgão superior</th>\n",
       "      <th>Código do órgão solicitante da viagem</th>\n",
       "      <th>Nome do órgão solicitante da viagem</th>\n",
       "      <th>N. PCDP</th>\n",
       "      <th>N. Reserva/Localizador</th>\n",
       "      <th>Data Emissão Bilhete</th>\n",
       "      <th>Data Embarque</th>\n",
       "      <th>Valor Tarifa Comercial</th>\n",
       "      <th>Percentual Desconto Aplicado</th>\n",
       "      <th>...</th>\n",
       "      <th>Companhia Aérea</th>\n",
       "      <th>Classe Tarifária Bilhete</th>\n",
       "      <th>Regra Tarifária</th>\n",
       "      <th>No Show</th>\n",
       "      <th>Remarcado</th>\n",
       "      <th>Cancelado</th>\n",
       "      <th>Valor Multas</th>\n",
       "      <th>Valor Reembolso</th>\n",
       "      <th>Diferença de Tarifa</th>\n",
       "      <th>Situação Final Bilhete</th>\n",
       "    </tr>\n",
       "  </thead>\n",
       "  <tbody>\n",
       "    <tr>\n",
       "      <th>46422</th>\n",
       "      <td>91842</td>\n",
       "      <td>Instituto Chico Mendes de Conservação da Biod...</td>\n",
       "      <td>92699</td>\n",
       "      <td>Coordenação-Geral de Áreas de Proteção Ambien...</td>\n",
       "      <td>009880/17</td>\n",
       "      <td>IG36TS</td>\n",
       "      <td>2017-10-18 09:20:45.101</td>\n",
       "      <td>2017-11-04 10:55:00</td>\n",
       "      <td>209.9</td>\n",
       "      <td>3.0</td>\n",
       "      <td>...</td>\n",
       "      <td>GOL Linhas Aéreas Inteligentes</td>\n",
       "      <td>N</td>\n",
       "      <td>https://www.voegol.com.br/pt/informacoes/tari...</td>\n",
       "      <td>Não</td>\n",
       "      <td>Não</td>\n",
       "      <td>Não</td>\n",
       "      <td>0.0</td>\n",
       "      <td>0.0</td>\n",
       "      <td>0.0</td>\n",
       "      <td>Voado</td>\n",
       "    </tr>\n",
       "    <tr>\n",
       "      <th>37437</th>\n",
       "      <td>2045</td>\n",
       "      <td>Instituto do Patrimônio Histórico e Artístico...</td>\n",
       "      <td>3418</td>\n",
       "      <td>Departamento do Patrimônio Imaterial         ...</td>\n",
       "      <td>002625/17</td>\n",
       "      <td>JCC1YZ</td>\n",
       "      <td>2017-10-03 18:09:02.702</td>\n",
       "      <td>2017-11-08 08:10:00</td>\n",
       "      <td>504.9</td>\n",
       "      <td>3.0</td>\n",
       "      <td>...</td>\n",
       "      <td>AZUL LINHAS AÉREAS BRASILEIRA</td>\n",
       "      <td>P</td>\n",
       "      <td>https://www.voeazul.com.br/para-sua-viagem/in...</td>\n",
       "      <td>Não</td>\n",
       "      <td>Não</td>\n",
       "      <td>Não</td>\n",
       "      <td>0.0</td>\n",
       "      <td>0.0</td>\n",
       "      <td>0.0</td>\n",
       "      <td>Andamento</td>\n",
       "    </tr>\n",
       "    <tr>\n",
       "      <th>47178</th>\n",
       "      <td>100900</td>\n",
       "      <td>Instituto Federal de Educação, Ciência e Tecn...</td>\n",
       "      <td>105129</td>\n",
       "      <td>Pró-Reitoria de Pesquisa e Inovação          ...</td>\n",
       "      <td>003370/17</td>\n",
       "      <td>QK7K8T</td>\n",
       "      <td>2017-10-18 16:57:36.056</td>\n",
       "      <td>2017-10-27 18:08:00</td>\n",
       "      <td>1104.9</td>\n",
       "      <td>0.0</td>\n",
       "      <td>...</td>\n",
       "      <td>GOL Linhas Aéreas Inteligentes</td>\n",
       "      <td>J</td>\n",
       "      <td>https://www.voegol.com.br/pt/informacoes/tari...</td>\n",
       "      <td>Não</td>\n",
       "      <td>Não</td>\n",
       "      <td>Não</td>\n",
       "      <td>0.0</td>\n",
       "      <td>0.0</td>\n",
       "      <td>0.0</td>\n",
       "      <td>Voado</td>\n",
       "    </tr>\n",
       "    <tr>\n",
       "      <th>41595</th>\n",
       "      <td>36687</td>\n",
       "      <td>Agência Nacional de Vigilância Sanitária     ...</td>\n",
       "      <td>200495</td>\n",
       "      <td>Gerência-Geral de Inspeção e Fiscalização San...</td>\n",
       "      <td>004787/17</td>\n",
       "      <td>PD6E9L</td>\n",
       "      <td>2017-10-23 11:25:10.127</td>\n",
       "      <td>2017-11-10 16:05:00</td>\n",
       "      <td>360.9</td>\n",
       "      <td>3.0</td>\n",
       "      <td>...</td>\n",
       "      <td>GOL Linhas Aéreas Inteligentes</td>\n",
       "      <td>N</td>\n",
       "      <td>https://www.voegol.com.br/pt/informacoes/tari...</td>\n",
       "      <td>Não</td>\n",
       "      <td>Não</td>\n",
       "      <td>Não</td>\n",
       "      <td>0.0</td>\n",
       "      <td>0.0</td>\n",
       "      <td>0.0</td>\n",
       "      <td>Andamento</td>\n",
       "    </tr>\n",
       "    <tr>\n",
       "      <th>46467</th>\n",
       "      <td>91842</td>\n",
       "      <td>Instituto Chico Mendes de Conservação da Biod...</td>\n",
       "      <td>92709</td>\n",
       "      <td>Coordenação Geral de Criação, Planejamento e ...</td>\n",
       "      <td>010340/17</td>\n",
       "      <td>WG73BH</td>\n",
       "      <td>2017-10-26 10:25:27.643</td>\n",
       "      <td>2017-11-11 08:03:00</td>\n",
       "      <td>436.4</td>\n",
       "      <td>0.0</td>\n",
       "      <td>...</td>\n",
       "      <td>LATAM AIRLINES BRASIL</td>\n",
       "      <td>X</td>\n",
       "      <td>http://t.umail.com.br/ClickHere/ViewEmail.asp...</td>\n",
       "      <td>Não</td>\n",
       "      <td>Não</td>\n",
       "      <td>Não</td>\n",
       "      <td>0.0</td>\n",
       "      <td>0.0</td>\n",
       "      <td>0.0</td>\n",
       "      <td>Andamento</td>\n",
       "    </tr>\n",
       "  </tbody>\n",
       "</table>\n",
       "<p>5 rows × 23 columns</p>\n",
       "</div>"
      ],
      "text/plain": [
       "       Código do órgão superior  \\\n",
       "46422                     91842   \n",
       "37437                      2045   \n",
       "47178                    100900   \n",
       "41595                     36687   \n",
       "46467                     91842   \n",
       "\n",
       "                                  Nome do órgão superior  \\\n",
       "46422   Instituto Chico Mendes de Conservação da Biod...   \n",
       "37437   Instituto do Patrimônio Histórico e Artístico...   \n",
       "47178   Instituto Federal de Educação, Ciência e Tecn...   \n",
       "41595   Agência Nacional de Vigilância Sanitária     ...   \n",
       "46467   Instituto Chico Mendes de Conservação da Biod...   \n",
       "\n",
       "       Código do órgão solicitante da viagem  \\\n",
       "46422                                  92699   \n",
       "37437                                   3418   \n",
       "47178                                 105129   \n",
       "41595                                 200495   \n",
       "46467                                  92709   \n",
       "\n",
       "                     Nome do órgão solicitante da viagem          N. PCDP  \\\n",
       "46422   Coordenação-Geral de Áreas de Proteção Ambien...   009880/17        \n",
       "37437   Departamento do Patrimônio Imaterial         ...   002625/17        \n",
       "47178   Pró-Reitoria de Pesquisa e Inovação          ...   003370/17        \n",
       "41595   Gerência-Geral de Inspeção e Fiscalização San...   004787/17        \n",
       "46467   Coordenação Geral de Criação, Planejamento e ...   010340/17        \n",
       "\n",
       "         N. Reserva/Localizador      Data Emissão Bilhete  \\\n",
       "46422   IG36TS                    2017-10-18 09:20:45.101   \n",
       "37437   JCC1YZ                    2017-10-03 18:09:02.702   \n",
       "47178   QK7K8T                    2017-10-18 16:57:36.056   \n",
       "41595   PD6E9L                    2017-10-23 11:25:10.127   \n",
       "46467   WG73BH                    2017-10-26 10:25:27.643   \n",
       "\n",
       "              Data Embarque  Valor Tarifa Comercial  \\\n",
       "46422   2017-11-04 10:55:00                   209.9   \n",
       "37437   2017-11-08 08:10:00                   504.9   \n",
       "47178   2017-10-27 18:08:00                  1104.9   \n",
       "41595   2017-11-10 16:05:00                   360.9   \n",
       "46467   2017-11-11 08:03:00                   436.4   \n",
       "\n",
       "       Percentual Desconto Aplicado           ...            \\\n",
       "46422                           3.0           ...             \n",
       "37437                           3.0           ...             \n",
       "47178                           0.0           ...             \n",
       "41595                           3.0           ...             \n",
       "46467                           0.0           ...             \n",
       "\n",
       "                              Companhia Aérea    Classe Tarifária Bilhete  \\\n",
       "46422   GOL Linhas Aéreas Inteligentes          N                           \n",
       "37437   AZUL LINHAS AÉREAS BRASILEIRA           P                           \n",
       "47178   GOL Linhas Aéreas Inteligentes          J                           \n",
       "41595   GOL Linhas Aéreas Inteligentes          N                           \n",
       "46467   LATAM AIRLINES BRASIL                   X                           \n",
       "\n",
       "                                         Regra Tarifária    No Show  \\\n",
       "46422   https://www.voegol.com.br/pt/informacoes/tari...   Não        \n",
       "37437   https://www.voeazul.com.br/para-sua-viagem/in...   Não        \n",
       "47178   https://www.voegol.com.br/pt/informacoes/tari...   Não        \n",
       "41595   https://www.voegol.com.br/pt/informacoes/tari...   Não        \n",
       "46467   http://t.umail.com.br/ClickHere/ViewEmail.asp...   Não        \n",
       "\n",
       "         Remarcado    Cancelado Valor Multas Valor Reembolso  \\\n",
       "46422   Não          Não                 0.0             0.0   \n",
       "37437   Não          Não                 0.0             0.0   \n",
       "47178   Não          Não                 0.0             0.0   \n",
       "41595   Não          Não                 0.0             0.0   \n",
       "46467   Não          Não                 0.0             0.0   \n",
       "\n",
       "      Diferença de Tarifa  Situação Final Bilhete  \n",
       "46422                 0.0                   Voado  \n",
       "37437                 0.0               Andamento  \n",
       "47178                 0.0                   Voado  \n",
       "41595                 0.0               Andamento  \n",
       "46467                 0.0               Andamento  \n",
       "\n",
       "[5 rows x 23 columns]"
      ]
     },
     "execution_count": 81,
     "metadata": {},
     "output_type": "execute_result"
    }
   ],
   "source": [
    "df.sample(5)"
   ]
  },
  {
   "cell_type": "code",
   "execution_count": 44,
   "metadata": {},
   "outputs": [
    {
     "data": {
      "text/plain": [
       "array([' Voado', ' Andamento', ' Cancelado'], dtype=object)"
      ]
     },
     "execution_count": 44,
     "metadata": {},
     "output_type": "execute_result"
    }
   ],
   "source": [
    "# Identificar as situacoes finais dos bilhetes.\n",
    "df['Situação Final Bilhete'].unique()"
   ]
  },
  {
   "cell_type": "code",
   "execution_count": 59,
   "metadata": {},
   "outputs": [
    {
     "data": {
      "text/plain": [
       "array([' LATAM AIRLINES BRASIL                ',\n",
       "       ' AVIANCA S.A.                         ',\n",
       "       ' GOL Linhas Aéreas Inteligentes       ',\n",
       "       ' AZUL LINHAS AÉREAS BRASILEIRA        ',\n",
       "       ' Gol OU Latam - Parceria com Terceiro',\n",
       "       ' MAP TRANSPORTES AEREOS LTDA - MAP    '], dtype=object)"
      ]
     },
     "execution_count": 59,
     "metadata": {},
     "output_type": "execute_result"
    }
   ],
   "source": [
    "# Identificar as companhias aereas.\n",
    "df['Companhia Aérea'].unique()"
   ]
  },
  {
   "cell_type": "code",
   "execution_count": 65,
   "metadata": {
    "scrolled": true
   },
   "outputs": [
    {
     "data": {
      "text/plain": [
       " Voado        28257\n",
       " Andamento    19960\n",
       " Cancelado     2188\n",
       "Name: Situação Final Bilhete, dtype: int64"
      ]
     },
     "execution_count": 65,
     "metadata": {},
     "output_type": "execute_result"
    }
   ],
   "source": [
    "# Distribuicao das situacoes finais dos bilhetes.\n",
    "df['Situação Final Bilhete'].value_counts()"
   ]
  },
  {
   "cell_type": "code",
   "execution_count": 101,
   "metadata": {},
   "outputs": [
    {
     "data": {
      "text/plain": [
       "<matplotlib.axes._subplots.AxesSubplot at 0x17dd3908>"
      ]
     },
     "execution_count": 101,
     "metadata": {},
     "output_type": "execute_result"
    },
    {
     "data": {
      "image/png": "[encoded data removed]",
      "text/plain": [
       "<matplotlib.figure.Figure at 0x1b0e4fd0>"
      ]
     },
     "metadata": {},
     "output_type": "display_data"
    }
   ],
   "source": [
    "# GRAFICO: Distribuicao das situacoes finais dos bilhetes.\n",
    "df['Situação Final Bilhete'].value_counts().plot.bar()"
   ]
  },
  {
   "cell_type": "code",
   "execution_count": 93,
   "metadata": {},
   "outputs": [
    {
     "data": {
      "text/html": [
       "<div>\n",
       "<style scoped>\n",
       "    .dataframe tbody tr th:only-of-type {\n",
       "        vertical-align: middle;\n",
       "    }\n",
       "\n",
       "    .dataframe tbody tr th {\n",
       "        vertical-align: top;\n",
       "    }\n",
       "\n",
       "    .dataframe thead th {\n",
       "        text-align: right;\n",
       "    }\n",
       "</style>\n",
       "<table border=\"1\" class=\"dataframe\">\n",
       "  <thead>\n",
       "    <tr style=\"text-align: right;\">\n",
       "      <th></th>\n",
       "      <th>Código do órgão superior</th>\n",
       "      <th>Nome do órgão superior</th>\n",
       "      <th>Código do órgão solicitante da viagem</th>\n",
       "      <th>Nome do órgão solicitante da viagem</th>\n",
       "      <th>N. PCDP</th>\n",
       "      <th>N. Reserva/Localizador</th>\n",
       "      <th>Data Emissão Bilhete</th>\n",
       "      <th>Data Embarque</th>\n",
       "      <th>Valor Tarifa Comercial</th>\n",
       "      <th>Percentual Desconto Aplicado</th>\n",
       "      <th>...</th>\n",
       "      <th>Companhia Aérea</th>\n",
       "      <th>Classe Tarifária Bilhete</th>\n",
       "      <th>Regra Tarifária</th>\n",
       "      <th>No Show</th>\n",
       "      <th>Remarcado</th>\n",
       "      <th>Cancelado</th>\n",
       "      <th>Valor Multas</th>\n",
       "      <th>Valor Reembolso</th>\n",
       "      <th>Diferença de Tarifa</th>\n",
       "      <th>Situação Final Bilhete</th>\n",
       "    </tr>\n",
       "  </thead>\n",
       "  <tbody>\n",
       "    <tr>\n",
       "      <th>20931</th>\n",
       "      <td>428</td>\n",
       "      <td>Universidade Federal do Paraná               ...</td>\n",
       "      <td>25069</td>\n",
       "      <td>Pró-Reitoria de Pesquisa e Pós-Graduação     ...</td>\n",
       "      <td>002970/17</td>\n",
       "      <td>IHTZ7U</td>\n",
       "      <td>2017-10-30 18:46:17.577</td>\n",
       "      <td>2017-11-09 21:05:00</td>\n",
       "      <td>371.9</td>\n",
       "      <td>3.0</td>\n",
       "      <td>...</td>\n",
       "      <td>AZUL LINHAS AÉREAS BRASILEIRA</td>\n",
       "      <td>L</td>\n",
       "      <td>https://www.voeazul.com.br/para-sua-viagem/in...</td>\n",
       "      <td>Não</td>\n",
       "      <td>Sim</td>\n",
       "      <td>Não</td>\n",
       "      <td>210.0</td>\n",
       "      <td>0.0</td>\n",
       "      <td>0.0</td>\n",
       "      <td>Voado</td>\n",
       "    </tr>\n",
       "  </tbody>\n",
       "</table>\n",
       "<p>1 rows × 23 columns</p>\n",
       "</div>"
      ],
      "text/plain": [
       "       Código do órgão superior  \\\n",
       "20931                       428   \n",
       "\n",
       "                                  Nome do órgão superior  \\\n",
       "20931   Universidade Federal do Paraná               ...   \n",
       "\n",
       "       Código do órgão solicitante da viagem  \\\n",
       "20931                                  25069   \n",
       "\n",
       "                     Nome do órgão solicitante da viagem          N. PCDP  \\\n",
       "20931   Pró-Reitoria de Pesquisa e Pós-Graduação     ...   002970/17        \n",
       "\n",
       "         N. Reserva/Localizador      Data Emissão Bilhete  \\\n",
       "20931   IHTZ7U                    2017-10-30 18:46:17.577   \n",
       "\n",
       "              Data Embarque  Valor Tarifa Comercial  \\\n",
       "20931   2017-11-09 21:05:00                   371.9   \n",
       "\n",
       "       Percentual Desconto Aplicado           ...            \\\n",
       "20931                           3.0           ...             \n",
       "\n",
       "                              Companhia Aérea    Classe Tarifária Bilhete  \\\n",
       "20931   AZUL LINHAS AÉREAS BRASILEIRA           L                           \n",
       "\n",
       "                                         Regra Tarifária    No Show  \\\n",
       "20931   https://www.voeazul.com.br/para-sua-viagem/in...   Não        \n",
       "\n",
       "         Remarcado    Cancelado Valor Multas Valor Reembolso  \\\n",
       "20931   Sim          Não               210.0             0.0   \n",
       "\n",
       "      Diferença de Tarifa  Situação Final Bilhete  \n",
       "20931                 0.0                   Voado  \n",
       "\n",
       "[1 rows x 23 columns]"
      ]
     },
     "execution_count": 93,
     "metadata": {},
     "output_type": "execute_result"
    }
   ],
   "source": [
    "# Qual a Companhia com a maior valor de multa?\n",
    "df[df['Valor Multas'] == df['Valor Multas'].max()]"
   ]
  },
  {
   "cell_type": "code",
   "execution_count": 180,
   "metadata": {
    "scrolled": true
   },
   "outputs": [
    {
     "data": {
      "text/plain": [
       "<matplotlib.axes._subplots.AxesSubplot at 0x1e079c18>"
      ]
     },
     "execution_count": 180,
     "metadata": {},
     "output_type": "execute_result"
    },
    {
     "data": {
      "image/png": "[encoded data removed]",
      "text/plain": [
       "<matplotlib.figure.Figure at 0x1e0dd3c8>"
      ]
     },
     "metadata": {},
     "output_type": "display_data"
    }
   ],
   "source": [
    "# GRAFICO: Qual a Companhia com a maior valor de multa?\n",
    "df.groupby('Companhia Aérea')['Valor Multas'].max().plot.barh()"
   ]
  },
  {
   "cell_type": "code",
   "execution_count": 182,
   "metadata": {},
   "outputs": [
    {
     "data": {
      "text/plain": [
       "Companhia Aérea\n",
       " AVIANCA S.A.                              339.24\n",
       " AZUL LINHAS AÉREAS BRASILEIRA             210.00\n",
       " GOL Linhas Aéreas Inteligentes           1699.90\n",
       " Gol OU Latam - Parceria com Terceiro        0.00\n",
       " LATAM AIRLINES BRASIL                       0.00\n",
       " MAP TRANSPORTES AEREOS LTDA - MAP           0.00\n",
       "Name: Valor Multas, dtype: float64"
      ]
     },
     "execution_count": 182,
     "metadata": {},
     "output_type": "execute_result"
    }
   ],
   "source": [
    "# Qual a Companhia com a maior quantidade de multas?\n",
    "df.groupby('Companhia Aérea')['Valor Multas'].sum()"
   ]
  },
  {
   "cell_type": "code",
   "execution_count": 181,
   "metadata": {},
   "outputs": [
    {
     "data": {
      "text/plain": [
       "<matplotlib.axes._subplots.AxesSubplot at 0x1e0dde48>"
      ]
     },
     "execution_count": 181,
     "metadata": {},
     "output_type": "execute_result"
    },
    {
     "data": {
      "image/png": "[encoded data removed]",
      "text/plain": [
       "<matplotlib.figure.Figure at 0x1e148588>"
      ]
     },
     "metadata": {},
     "output_type": "display_data"
    }
   ],
   "source": [
    "# GRAFICO: Qual a Companhia com a maior quantidade de multas?\n",
    "df.groupby('Companhia Aérea')['Valor Multas'].sum().plot.barh()"
   ]
  },
  {
   "cell_type": "code",
   "execution_count": 175,
   "metadata": {},
   "outputs": [
    {
     "data": {
      "text/html": [
       "<div>\n",
       "<style scoped>\n",
       "    .dataframe tbody tr th:only-of-type {\n",
       "        vertical-align: middle;\n",
       "    }\n",
       "\n",
       "    .dataframe tbody tr th {\n",
       "        vertical-align: top;\n",
       "    }\n",
       "\n",
       "    .dataframe thead th {\n",
       "        text-align: right;\n",
       "    }\n",
       "</style>\n",
       "<table border=\"1\" class=\"dataframe\">\n",
       "  <thead>\n",
       "    <tr style=\"text-align: right;\">\n",
       "      <th></th>\n",
       "      <th>Código do órgão superior</th>\n",
       "      <th>Nome do órgão superior</th>\n",
       "      <th>Código do órgão solicitante da viagem</th>\n",
       "      <th>Nome do órgão solicitante da viagem</th>\n",
       "      <th>N. PCDP</th>\n",
       "      <th>N. Reserva/Localizador</th>\n",
       "      <th>Data Emissão Bilhete</th>\n",
       "      <th>Data Embarque</th>\n",
       "      <th>Valor Tarifa Comercial</th>\n",
       "      <th>Percentual Desconto Aplicado</th>\n",
       "      <th>...</th>\n",
       "      <th>Companhia Aérea</th>\n",
       "      <th>Classe Tarifária Bilhete</th>\n",
       "      <th>Regra Tarifária</th>\n",
       "      <th>No Show</th>\n",
       "      <th>Remarcado</th>\n",
       "      <th>Cancelado</th>\n",
       "      <th>Valor Multas</th>\n",
       "      <th>Valor Reembolso</th>\n",
       "      <th>Diferença de Tarifa</th>\n",
       "      <th>Situação Final Bilhete</th>\n",
       "    </tr>\n",
       "  </thead>\n",
       "  <tbody>\n",
       "    <tr>\n",
       "      <th>21541</th>\n",
       "      <td>431</td>\n",
       "      <td>Universidade Federal de Santa Maria          ...</td>\n",
       "      <td>27563</td>\n",
       "      <td>Pró-Reitoria de Pós-Graduação e Pesquisa     ...</td>\n",
       "      <td>004488/17</td>\n",
       "      <td>OBF73Z</td>\n",
       "      <td>2017-10-30 10:00:57.624</td>\n",
       "      <td>2017-11-06 06:10:00</td>\n",
       "      <td>4156.8</td>\n",
       "      <td>3.0</td>\n",
       "      <td>...</td>\n",
       "      <td>AZUL LINHAS AÉREAS BRASILEIRA</td>\n",
       "      <td>Y,Y,Y/G,G,G</td>\n",
       "      <td>https://www.voeazul.com.br/para-sua-viagem/in...</td>\n",
       "      <td>Não</td>\n",
       "      <td>Não</td>\n",
       "      <td>Não</td>\n",
       "      <td>0.0</td>\n",
       "      <td>0.0</td>\n",
       "      <td>0.0</td>\n",
       "      <td>Voado</td>\n",
       "    </tr>\n",
       "  </tbody>\n",
       "</table>\n",
       "<p>1 rows × 23 columns</p>\n",
       "</div>"
      ],
      "text/plain": [
       "       Código do órgão superior  \\\n",
       "21541                       431   \n",
       "\n",
       "                                  Nome do órgão superior  \\\n",
       "21541   Universidade Federal de Santa Maria          ...   \n",
       "\n",
       "       Código do órgão solicitante da viagem  \\\n",
       "21541                                  27563   \n",
       "\n",
       "                     Nome do órgão solicitante da viagem          N. PCDP  \\\n",
       "21541   Pró-Reitoria de Pós-Graduação e Pesquisa     ...   004488/17        \n",
       "\n",
       "         N. Reserva/Localizador      Data Emissão Bilhete  \\\n",
       "21541   OBF73Z                    2017-10-30 10:00:57.624   \n",
       "\n",
       "              Data Embarque  Valor Tarifa Comercial  \\\n",
       "21541   2017-11-06 06:10:00                  4156.8   \n",
       "\n",
       "       Percentual Desconto Aplicado           ...            \\\n",
       "21541                           3.0           ...             \n",
       "\n",
       "                              Companhia Aérea    Classe Tarifária Bilhete  \\\n",
       "21541   AZUL LINHAS AÉREAS BRASILEIRA           Y,Y,Y/G,G,G                 \n",
       "\n",
       "                                         Regra Tarifária    No Show  \\\n",
       "21541   https://www.voeazul.com.br/para-sua-viagem/in...   Não        \n",
       "\n",
       "         Remarcado    Cancelado Valor Multas Valor Reembolso  \\\n",
       "21541   Não          Não                 0.0             0.0   \n",
       "\n",
       "      Diferença de Tarifa  Situação Final Bilhete  \n",
       "21541                 0.0                   Voado  \n",
       "\n",
       "[1 rows x 23 columns]"
      ]
     },
     "execution_count": 175,
     "metadata": {},
     "output_type": "execute_result"
    }
   ],
   "source": [
    "# Qual a Companhia com a maior Valor Tarifa Comercial?\n",
    "df[df['Valor Tarifa Comercial'] == df['Valor Tarifa Comercial'].max()]"
   ]
  },
  {
   "cell_type": "code",
   "execution_count": 176,
   "metadata": {},
   "outputs": [
    {
     "data": {
      "text/plain": [
       "<matplotlib.axes._subplots.AxesSubplot at 0x1c4e4ef0>"
      ]
     },
     "execution_count": 176,
     "metadata": {},
     "output_type": "execute_result"
    },
    {
     "data": {
      "image/png": "[encoded data removed]",
      "text/plain": [
       "<matplotlib.figure.Figure at 0x1df151d0>"
      ]
     },
     "metadata": {},
     "output_type": "display_data"
    }
   ],
   "source": [
    "# GRAFICO: # Qual a Companhia com a maior Valor Tarifa Comercial?\n",
    "df.groupby('Companhia Aérea')['Valor Tarifa Comercial'].max().plot.barh()"
   ]
  },
  {
   "cell_type": "code",
   "execution_count": 179,
   "metadata": {},
   "outputs": [
    {
     "data": {
      "text/plain": [
       "<matplotlib.axes._subplots.AxesSubplot at 0x1e087550>"
      ]
     },
     "execution_count": 179,
     "metadata": {},
     "output_type": "execute_result"
    },
    {
     "data": {
      "image/png": "[encoded data removed]",
      "text/plain": [
       "<matplotlib.figure.Figure at 0x1dfa4e80>"
      ]
     },
     "metadata": {},
     "output_type": "display_data"
    }
   ],
   "source": [
    "# GRAFICO: Passagens aereas por companhias.\n",
    "df['Companhia Aérea'].value_counts().plot.barh()"
   ]
  },
  {
   "cell_type": "code",
   "execution_count": 171,
   "metadata": {
    "scrolled": true
   },
   "outputs": [
    {
     "data": {
      "text/html": [
       "<div>\n",
       "<style scoped>\n",
       "    .dataframe tbody tr th:only-of-type {\n",
       "        vertical-align: middle;\n",
       "    }\n",
       "\n",
       "    .dataframe tbody tr th {\n",
       "        vertical-align: top;\n",
       "    }\n",
       "\n",
       "    .dataframe thead th {\n",
       "        text-align: right;\n",
       "    }\n",
       "</style>\n",
       "<table border=\"1\" class=\"dataframe\">\n",
       "  <thead>\n",
       "    <tr style=\"text-align: right;\">\n",
       "      <th></th>\n",
       "      <th>Código do órgão superior</th>\n",
       "      <th>Nome do órgão superior</th>\n",
       "      <th>Código do órgão solicitante da viagem</th>\n",
       "      <th>Nome do órgão solicitante da viagem</th>\n",
       "      <th>N. PCDP</th>\n",
       "      <th>N. Reserva/Localizador</th>\n",
       "      <th>Data Emissão Bilhete</th>\n",
       "      <th>Data Embarque</th>\n",
       "      <th>Valor Tarifa Comercial</th>\n",
       "      <th>Percentual Desconto Aplicado</th>\n",
       "      <th>...</th>\n",
       "      <th>Companhia Aérea</th>\n",
       "      <th>Classe Tarifária Bilhete</th>\n",
       "      <th>Regra Tarifária</th>\n",
       "      <th>No Show</th>\n",
       "      <th>Remarcado</th>\n",
       "      <th>Cancelado</th>\n",
       "      <th>Valor Multas</th>\n",
       "      <th>Valor Reembolso</th>\n",
       "      <th>Diferença de Tarifa</th>\n",
       "      <th>Situação Final Bilhete</th>\n",
       "    </tr>\n",
       "  </thead>\n",
       "  <tbody>\n",
       "    <tr>\n",
       "      <th>21541</th>\n",
       "      <td>431</td>\n",
       "      <td>Universidade Federal de Santa Maria          ...</td>\n",
       "      <td>27563</td>\n",
       "      <td>Pró-Reitoria de Pós-Graduação e Pesquisa     ...</td>\n",
       "      <td>004488/17</td>\n",
       "      <td>OBF73Z</td>\n",
       "      <td>2017-10-30 10:00:57.624</td>\n",
       "      <td>2017-11-06 06:10:00</td>\n",
       "      <td>4156.8</td>\n",
       "      <td>3.0</td>\n",
       "      <td>...</td>\n",
       "      <td>AZUL LINHAS AÉREAS BRASILEIRA</td>\n",
       "      <td>Y,Y,Y/G,G,G</td>\n",
       "      <td>https://www.voeazul.com.br/para-sua-viagem/in...</td>\n",
       "      <td>Não</td>\n",
       "      <td>Não</td>\n",
       "      <td>Não</td>\n",
       "      <td>0.0</td>\n",
       "      <td>0.0</td>\n",
       "      <td>0.0</td>\n",
       "      <td>Voado</td>\n",
       "    </tr>\n",
       "  </tbody>\n",
       "</table>\n",
       "<p>1 rows × 23 columns</p>\n",
       "</div>"
      ],
      "text/plain": [
       "       Código do órgão superior  \\\n",
       "21541                       431   \n",
       "\n",
       "                                  Nome do órgão superior  \\\n",
       "21541   Universidade Federal de Santa Maria          ...   \n",
       "\n",
       "       Código do órgão solicitante da viagem  \\\n",
       "21541                                  27563   \n",
       "\n",
       "                     Nome do órgão solicitante da viagem          N. PCDP  \\\n",
       "21541   Pró-Reitoria de Pós-Graduação e Pesquisa     ...   004488/17        \n",
       "\n",
       "         N. Reserva/Localizador      Data Emissão Bilhete  \\\n",
       "21541   OBF73Z                    2017-10-30 10:00:57.624   \n",
       "\n",
       "              Data Embarque  Valor Tarifa Comercial  \\\n",
       "21541   2017-11-06 06:10:00                  4156.8   \n",
       "\n",
       "       Percentual Desconto Aplicado           ...            \\\n",
       "21541                           3.0           ...             \n",
       "\n",
       "                              Companhia Aérea    Classe Tarifária Bilhete  \\\n",
       "21541   AZUL LINHAS AÉREAS BRASILEIRA           Y,Y,Y/G,G,G                 \n",
       "\n",
       "                                         Regra Tarifária    No Show  \\\n",
       "21541   https://www.voeazul.com.br/para-sua-viagem/in...   Não        \n",
       "\n",
       "         Remarcado    Cancelado Valor Multas Valor Reembolso  \\\n",
       "21541   Não          Não                 0.0             0.0   \n",
       "\n",
       "      Diferença de Tarifa  Situação Final Bilhete  \n",
       "21541                 0.0                   Voado  \n",
       "\n",
       "[1 rows x 23 columns]"
      ]
     },
     "execution_count": 171,
     "metadata": {},
     "output_type": "execute_result"
    }
   ],
   "source": [
    "# Qual a Companhia com o maior Valor Tarifa Governo?\n",
    "df[df['Valor Tarifa Governo'] == df['Valor Tarifa Governo'].max()]"
   ]
  },
  {
   "cell_type": "code",
   "execution_count": 172,
   "metadata": {},
   "outputs": [
    {
     "data": {
      "text/plain": [
       "<matplotlib.axes._subplots.AxesSubplot at 0x1de22d68>"
      ]
     },
     "execution_count": 172,
     "metadata": {},
     "output_type": "execute_result"
    },
    {
     "data": {
      "image/png": "[encoded data removed]",
      "text/plain": [
       "<matplotlib.figure.Figure at 0x1de00208>"
      ]
     },
     "metadata": {},
     "output_type": "display_data"
    }
   ],
   "source": [
    "# GRAFICO: Qual a Companhia com o maior Valor Tarifa Governo?\n",
    "df.groupby('Companhia Aérea')['Valor Tarifa Governo'].max().plot.barh()"
   ]
  },
  {
   "cell_type": "code",
   "execution_count": 147,
   "metadata": {},
   "outputs": [
    {
     "data": {
      "text/html": [
       "<div>\n",
       "<style scoped>\n",
       "    .dataframe tbody tr th:only-of-type {\n",
       "        vertical-align: middle;\n",
       "    }\n",
       "\n",
       "    .dataframe tbody tr th {\n",
       "        vertical-align: top;\n",
       "    }\n",
       "\n",
       "    .dataframe thead th {\n",
       "        text-align: right;\n",
       "    }\n",
       "</style>\n",
       "<table border=\"1\" class=\"dataframe\">\n",
       "  <thead>\n",
       "    <tr style=\"text-align: right;\">\n",
       "      <th></th>\n",
       "      <th>Código do órgão superior</th>\n",
       "      <th>Nome do órgão superior</th>\n",
       "      <th>Código do órgão solicitante da viagem</th>\n",
       "      <th>Nome do órgão solicitante da viagem</th>\n",
       "      <th>N. PCDP</th>\n",
       "      <th>N. Reserva/Localizador</th>\n",
       "      <th>Data Emissão Bilhete</th>\n",
       "      <th>Data Embarque</th>\n",
       "      <th>Valor Tarifa Comercial</th>\n",
       "      <th>Percentual Desconto Aplicado</th>\n",
       "      <th>...</th>\n",
       "      <th>Companhia Aérea</th>\n",
       "      <th>Classe Tarifária Bilhete</th>\n",
       "      <th>Regra Tarifária</th>\n",
       "      <th>No Show</th>\n",
       "      <th>Remarcado</th>\n",
       "      <th>Cancelado</th>\n",
       "      <th>Valor Multas</th>\n",
       "      <th>Valor Reembolso</th>\n",
       "      <th>Diferença de Tarifa</th>\n",
       "      <th>Situação Final Bilhete</th>\n",
       "    </tr>\n",
       "  </thead>\n",
       "  <tbody>\n",
       "    <tr>\n",
       "      <th>16</th>\n",
       "      <td>3</td>\n",
       "      <td>Fundação Instituto Brasileiro de Geografia e ...</td>\n",
       "      <td>6</td>\n",
       "      <td>Diretoria de Informática                     ...</td>\n",
       "      <td>031005/17</td>\n",
       "      <td>NYAROU</td>\n",
       "      <td>2017-10-19 19:52:48.851</td>\n",
       "      <td>2017-10-22 09:00:00</td>\n",
       "      <td>431.38</td>\n",
       "      <td>100.0</td>\n",
       "      <td>...</td>\n",
       "      <td>LATAM AIRLINES BRASIL</td>\n",
       "      <td>X</td>\n",
       "      <td>http://t.umail.com.br/ClickHere/ViewEmail.asp...</td>\n",
       "      <td>Não</td>\n",
       "      <td>Não</td>\n",
       "      <td>Sim</td>\n",
       "      <td>0.0</td>\n",
       "      <td>0.0</td>\n",
       "      <td>0.0</td>\n",
       "      <td>Cancelado</td>\n",
       "    </tr>\n",
       "    <tr>\n",
       "      <th>32474</th>\n",
       "      <td>1929</td>\n",
       "      <td>Ministério da Fazenda                        ...</td>\n",
       "      <td>3297</td>\n",
       "      <td>Delegacia da Receita Federal do Brasil em For...</td>\n",
       "      <td>035714/17</td>\n",
       "      <td>WC9WT8</td>\n",
       "      <td>2017-10-16 16:56:53.757</td>\n",
       "      <td>2017-10-16 21:07:00</td>\n",
       "      <td>1113.46</td>\n",
       "      <td>100.0</td>\n",
       "      <td>...</td>\n",
       "      <td>LATAM AIRLINES BRASIL</td>\n",
       "      <td>H</td>\n",
       "      <td>http://t.umail.com.br/ClickHere/ViewEmail.asp...</td>\n",
       "      <td>Não</td>\n",
       "      <td>Não</td>\n",
       "      <td>Não</td>\n",
       "      <td>0.0</td>\n",
       "      <td>0.0</td>\n",
       "      <td>0.0</td>\n",
       "      <td>Andamento</td>\n",
       "    </tr>\n",
       "  </tbody>\n",
       "</table>\n",
       "<p>2 rows × 23 columns</p>\n",
       "</div>"
      ],
      "text/plain": [
       "       Código do órgão superior  \\\n",
       "16                            3   \n",
       "32474                      1929   \n",
       "\n",
       "                                  Nome do órgão superior  \\\n",
       "16      Fundação Instituto Brasileiro de Geografia e ...   \n",
       "32474   Ministério da Fazenda                        ...   \n",
       "\n",
       "       Código do órgão solicitante da viagem  \\\n",
       "16                                         6   \n",
       "32474                                   3297   \n",
       "\n",
       "                     Nome do órgão solicitante da viagem          N. PCDP  \\\n",
       "16      Diretoria de Informática                     ...   031005/17        \n",
       "32474   Delegacia da Receita Federal do Brasil em For...   035714/17        \n",
       "\n",
       "         N. Reserva/Localizador      Data Emissão Bilhete  \\\n",
       "16      NYAROU                    2017-10-19 19:52:48.851   \n",
       "32474   WC9WT8                    2017-10-16 16:56:53.757   \n",
       "\n",
       "              Data Embarque  Valor Tarifa Comercial  \\\n",
       "16      2017-10-22 09:00:00                  431.38   \n",
       "32474   2017-10-16 21:07:00                 1113.46   \n",
       "\n",
       "       Percentual Desconto Aplicado           ...            \\\n",
       "16                            100.0           ...             \n",
       "32474                         100.0           ...             \n",
       "\n",
       "                              Companhia Aérea    Classe Tarifária Bilhete  \\\n",
       "16      LATAM AIRLINES BRASIL                   X                           \n",
       "32474   LATAM AIRLINES BRASIL                   H                           \n",
       "\n",
       "                                         Regra Tarifária    No Show  \\\n",
       "16      http://t.umail.com.br/ClickHere/ViewEmail.asp...   Não        \n",
       "32474   http://t.umail.com.br/ClickHere/ViewEmail.asp...   Não        \n",
       "\n",
       "         Remarcado    Cancelado Valor Multas Valor Reembolso  \\\n",
       "16      Não          Sim                 0.0             0.0   \n",
       "32474   Não          Não                 0.0             0.0   \n",
       "\n",
       "      Diferença de Tarifa  Situação Final Bilhete  \n",
       "16                    0.0               Cancelado  \n",
       "32474                 0.0               Andamento  \n",
       "\n",
       "[2 rows x 23 columns]"
      ]
     },
     "execution_count": 147,
     "metadata": {},
     "output_type": "execute_result"
    }
   ],
   "source": [
    "# Qual a Companhia com o maior Percentual Desconto Aplicado?\n",
    "df[df['Percentual Desconto Aplicado'] == df['Percentual Desconto Aplicado'].max()]"
   ]
  },
  {
   "cell_type": "code",
   "execution_count": 174,
   "metadata": {},
   "outputs": [
    {
     "data": {
      "text/plain": [
       "<matplotlib.axes._subplots.AxesSubplot at 0x1df2a898>"
      ]
     },
     "execution_count": 174,
     "metadata": {},
     "output_type": "execute_result"
    },
    {
     "data": {
      "image/png": "[encoded data removed]",
      "text/plain": [
       "<matplotlib.figure.Figure at 0x1dde6400>"
      ]
     },
     "metadata": {},
     "output_type": "display_data"
    }
   ],
   "source": [
    "# GRAFICO: Qual a Companhia com o maior Percentual Desconto Aplicado?\n",
    "df.groupby('Companhia Aérea')['Percentual Desconto Aplicado'].max().plot.barh()"
   ]
  }
 ],
 "metadata": {
  "kernelspec": {
   "display_name": "Python 3",
   "language": "python",
   "name": "python3"
  },
  "language_info": {
   "codemirror_mode": {
    "name": "ipython",
    "version": 3
   },
   "file_extension": ".py",
   "mimetype": "text/x-python",
   "name": "python",
   "nbconvert_exporter": "python",
   "pygments_lexer": "ipython3",
   "version": "3.6.4"
  }
 },
 "nbformat": 4,
 "nbformat_minor": 2
}
